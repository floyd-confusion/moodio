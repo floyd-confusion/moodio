{
 "cells": [
  {
   "cell_type": "code",
   "execution_count": 2,
   "metadata": {},
   "outputs": [
    {
     "name": "stderr",
     "output_type": "stream",
     "text": [
      "/var/folders/8g/859zqjgn2p1_t_5g5s3mg1v80000gn/T/ipykernel_75463/4080736814.py:1: DeprecationWarning: \n",
      "Pyarrow will become a required dependency of pandas in the next major release of pandas (pandas 3.0),\n",
      "(to allow more performant data types, such as the Arrow string type, and better interoperability with other libraries)\n",
      "but was not found to be installed on your system.\n",
      "If this would cause problems for you,\n",
      "please provide us feedback at https://github.com/pandas-dev/pandas/issues/54466\n",
      "        \n",
      "  import pandas as pd\n"
     ]
    }
   ],
   "source": [
    "import pandas as pd"
   ]
  },
  {
   "cell_type": "code",
   "execution_count": 9,
   "metadata": {},
   "outputs": [
    {
     "data": {
      "text/plain": [
       "'/Users/aleksandrsichkar/Documents/University/finalProj'"
      ]
     },
     "execution_count": 9,
     "metadata": {},
     "output_type": "execute_result"
    }
   ],
   "source": [
    "# Load the CSV file\n",
    "import os\n",
    "os.getcwd()\n",
    "\n"
   ]
  },
  {
   "cell_type": "code",
   "execution_count": null,
   "metadata": {},
   "outputs": [],
   "source": [
    "# read the csv file\n",
    "import pandas as pd\n",
    "\n",
    "df = pd.read_csv('data/tracks_features.csv')\n"
   ]
  },
  {
   "cell_type": "code",
   "execution_count": 18,
   "metadata": {},
   "outputs": [
    {
     "data": {
      "text/plain": [
       "Index(['id', 'name', 'album', 'album_id', 'artists', 'artist_ids',\n",
       "       'track_number', 'disc_number', 'explicit', 'danceability', 'energy',\n",
       "       'key', 'loudness', 'mode', 'speechiness', 'acousticness',\n",
       "       'instrumentalness', 'liveness', 'valence', 'tempo', 'duration_ms',\n",
       "       'time_signature', 'year', 'release_date'],\n",
       "      dtype='object')"
      ]
     },
     "execution_count": 18,
     "metadata": {},
     "output_type": "execute_result"
    }
   ],
   "source": []
  },
  {
   "cell_type": "code",
   "execution_count": 15,
   "metadata": {},
   "outputs": [
    {
     "name": "stdout",
     "output_type": "stream",
     "text": [
      "10 random artists:\n",
      "177646                           ['Scary Kids Scaring Kids']\n",
      "611550                                ['Red Temple Spirits']\n",
      "603595                                               ['OFF']\n",
      "1132010                            ['The Devil Wears Prada']\n",
      "135991                                       ['Space Tribe']\n",
      "610564                               ['Ming Flute Ensemble']\n",
      "661641                     ['Arrigo Boito', 'Riccardo Muti']\n",
      "856952                                   ['Champian Fulton']\n",
      "103662                                       ['Johnny Dowd']\n",
      "665628     ['Charlie Burton and the Texas Tweleve-Steppers']\n",
      "Name: artists, dtype: object\n"
     ]
    }
   ],
   "source": [
    "# column artists contains a list of artists for each track\n",
    "# give query to get 10 random artists from the column artists rows\n",
    "# pandas already imported \n",
    "# Get 10 random artists from the artists column\n",
    "random_artists = df['artists'].sample(n=10)\n",
    "print(\"10 random artists:\")\n",
    "print(random_artists)\n",
    "\n"
   ]
  },
  {
   "cell_type": "code",
   "execution_count": 16,
   "metadata": {},
   "outputs": [
    {
     "name": "stdout",
     "output_type": "stream",
     "text": [
      "Number of unique artists: 165365\n",
      "\n",
      "First 10 unique artists:\n",
      "[\"['Rage Against The Machine']\" \"['Daryl Hall & John Oates']\"\n",
      " \"['Will Young']\" \"['Bruce Cockburn']\" \"['Tori Amos']\" \"['Kate Campbell']\"\n",
      " \"['Death & Desire']\" \"['zebrahead']\" \"['Ani DiFranco']\" \"['Rufio']\"]\n"
     ]
    }
   ],
   "source": [
    "# Count unique artists in the dataset\n",
    "unique_artists = df['artists'].nunique()\n",
    "print(f\"Number of unique artists: {unique_artists}\")\n",
    "\n",
    "# Display first 10 unique artists\n",
    "print(\"\\nFirst 10 unique artists:\")\n",
    "print(df['artists'].unique()[:10])\n"
   ]
  },
  {
   "cell_type": "code",
   "execution_count": null,
   "metadata": {},
   "outputs": [],
   "source": []
  },
  {
   "cell_type": "code",
   "execution_count": null,
   "metadata": {},
   "outputs": [],
   "source": []
  },
  {
   "cell_type": "code",
   "execution_count": null,
   "metadata": {},
   "outputs": [],
   "source": []
  }
 ],
 "metadata": {
  "kernelspec": {
   "display_name": ".venv",
   "language": "python",
   "name": "python3"
  },
  "language_info": {
   "codemirror_mode": {
    "name": "ipython",
    "version": 3
   },
   "file_extension": ".py",
   "mimetype": "text/x-python",
   "name": "python",
   "nbconvert_exporter": "python",
   "pygments_lexer": "ipython3",
   "version": "3.12.3"
  }
 },
 "nbformat": 4,
 "nbformat_minor": 2
}
